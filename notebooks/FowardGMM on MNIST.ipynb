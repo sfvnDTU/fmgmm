{
 "cells": [
  {
   "cell_type": "markdown",
   "metadata": {},
   "source": [
    "# Forward Gaussian Mixture Model on MNIST"
   ]
  },
  {
   "cell_type": "code",
   "execution_count": 2,
   "metadata": {},
   "outputs": [],
   "source": [
    "%matplotlib inline\n",
    "import sys\n",
    "sys.path.append('..')\n",
    "from models.fmgmm import GaussianMixtureWithForwardModel\n",
    "from sklearn.datasets import load_digits\n",
    "import matplotlib.pyplot as plt\n",
    "import numpy as np"
   ]
  },
  {
   "cell_type": "code",
   "execution_count": 18,
   "metadata": {},
   "outputs": [],
   "source": [
    "digits = [0,1]\n",
    "X, y = load_digits(return_X_y=True)\n",
    "idx = [val in digits for val in y]\n",
    "X = X[idx, :]\n",
    "y = y[idx]"
   ]
  },
  {
   "cell_type": "code",
   "execution_count": 19,
   "metadata": {},
   "outputs": [
    {
     "name": "stdout",
     "output_type": "stream",
     "text": [
      "Initialization 0\n",
      "  Iteration 0\t time lapse 0.29285s\t ll change inf\n",
      "  Iteration 1\t time lapse 0.30335s\t ll change 1.13325\n",
      "  Iteration 2\t time lapse 0.27183s\t ll change 0.65378\n",
      "  Iteration 3\t time lapse 0.27137s\t ll change 0.82789\n",
      "  Iteration 4\t time lapse 0.27292s\t ll change 0.85818\n",
      "  Iteration 5\t time lapse 0.27503s\t ll change 0.75335\n",
      "  Iteration 6\t time lapse 0.24443s\t ll change 0.48588\n",
      "  Iteration 7\t time lapse 0.22047s\t ll change 0.86285\n",
      "  Iteration 8\t time lapse 0.26572s\t ll change 0.83199\n",
      "  Iteration 9\t time lapse 0.25616s\t ll change 0.22315\n",
      "  Iteration 10\t time lapse 0.28007s\t ll change 0.27875\n",
      "  Iteration 11\t time lapse 0.23758s\t ll change 0.50179\n",
      "  Iteration 12\t time lapse 0.25657s\t ll change 0.96775\n",
      "  Iteration 13\t time lapse 0.25499s\t ll change 1.05674\n",
      "  Iteration 14\t time lapse 0.24276s\t ll change 1.15902\n",
      "  Iteration 15\t time lapse 0.22024s\t ll change 1.56303\n",
      "  Iteration 16\t time lapse 0.21572s\t ll change 0.56683\n",
      "  Iteration 17\t time lapse 0.21916s\t ll change 0.68258\n",
      "  Iteration 18\t time lapse 0.21526s\t ll change 0.00666\n",
      "  Iteration 19\t time lapse 0.21844s\t ll change 0.00305\n",
      "  Iteration 20\t time lapse 0.21623s\t ll change 0.00321\n",
      "  Iteration 21\t time lapse 0.25072s\t ll change 0.00347\n",
      "  Iteration 22\t time lapse 0.23592s\t ll change 0.00386\n",
      "  Iteration 23\t time lapse 0.25499s\t ll change 0.00441\n",
      "  Iteration 24\t time lapse 0.27664s\t ll change 0.00520\n",
      "  Iteration 25\t time lapse 0.27017s\t ll change 0.00635\n",
      "  Iteration 26\t time lapse 0.24516s\t ll change 0.00805\n",
      "  Iteration 27\t time lapse 0.25316s\t ll change 0.01067\n",
      "  Iteration 28\t time lapse 0.23939s\t ll change 0.01491\n",
      "  Iteration 29\t time lapse 0.24237s\t ll change 0.02223\n",
      "  Iteration 30\t time lapse 0.23600s\t ll change 0.03585\n",
      "  Iteration 31\t time lapse 0.26905s\t ll change 0.06345\n",
      "  Iteration 32\t time lapse 0.27095s\t ll change 0.12301\n",
      "  Iteration 33\t time lapse 0.23525s\t ll change 0.25161\n",
      "  Iteration 34\t time lapse 0.21442s\t ll change 0.49480\n",
      "  Iteration 35\t time lapse 0.26013s\t ll change 0.09228\n",
      "  Iteration 36\t time lapse 0.29773s\t ll change 0.00003\n",
      "Initialization converged: True\t time lapse 9.30327s\t ll -92.83694\n"
     ]
    },
    {
     "data": {
      "image/png": "[encoded data removed]",
      "text/plain": [
       "<matplotlib.figure.Figure at 0x7fcbd2159048>"
      ]
     },
     "metadata": {},
     "output_type": "display_data"
    }
   ],
   "source": [
    "model = GaussianMixtureWithForwardModel(forward_model=10, n_components=4, verbose=2, verbose_interval=1, covariance_type='full')\n",
    "model.fit(X)\n",
    "\n",
    "\n",
    "fig, ax = plt.subplots()\n",
    "ax.plot(model.y_sub[:,0], model.y_sub[:,1], 'o')\n",
    "\n",
    "plt.show()"
   ]
  },
  {
   "cell_type": "code",
   "execution_count": 20,
   "metadata": {},
   "outputs": [
    {
     "ename": "ValueError",
     "evalue": "Expected the input data X have 10 features, but got 64 features",
     "output_type": "error",
     "traceback": [
      "\u001b[0;31m---------------------------------------------------------------------------\u001b[0m",
      "\u001b[0;31mValueError\u001b[0m                                Traceback (most recent call last)",
      "\u001b[0;32m<ipython-input-20-234dab8b16bc>\u001b[0m in \u001b[0;36m<module>\u001b[0;34m()\u001b[0m\n\u001b[0;32m----> 1\u001b[0;31m \u001b[0mmodel\u001b[0m\u001b[0;34m.\u001b[0m\u001b[0mscore\u001b[0m\u001b[0;34m(\u001b[0m\u001b[0mX\u001b[0m\u001b[0;34m)\u001b[0m\u001b[0;34m\u001b[0m\u001b[0m\n\u001b[0m",
      "\u001b[0;32m~/anaconda3/envs/py36/lib/python3.6/site-packages/sklearn/mixture/base.py\u001b[0m in \u001b[0;36mscore\u001b[0;34m(self, X, y)\u001b[0m\n\u001b[1;32m    320\u001b[0m             \u001b[0mLog\u001b[0m \u001b[0mlikelihood\u001b[0m \u001b[0mof\u001b[0m \u001b[0mthe\u001b[0m \u001b[0mGaussian\u001b[0m \u001b[0mmixture\u001b[0m \u001b[0mgiven\u001b[0m \u001b[0mX\u001b[0m\u001b[0;34m.\u001b[0m\u001b[0;34m\u001b[0m\u001b[0m\n\u001b[1;32m    321\u001b[0m         \"\"\"\n\u001b[0;32m--> 322\u001b[0;31m         \u001b[0;32mreturn\u001b[0m \u001b[0mself\u001b[0m\u001b[0;34m.\u001b[0m\u001b[0mscore_samples\u001b[0m\u001b[0;34m(\u001b[0m\u001b[0mX\u001b[0m\u001b[0;34m)\u001b[0m\u001b[0;34m.\u001b[0m\u001b[0mmean\u001b[0m\u001b[0;34m(\u001b[0m\u001b[0;34m)\u001b[0m\u001b[0;34m\u001b[0m\u001b[0m\n\u001b[0m\u001b[1;32m    323\u001b[0m \u001b[0;34m\u001b[0m\u001b[0m\n\u001b[1;32m    324\u001b[0m     \u001b[0;32mdef\u001b[0m \u001b[0mpredict\u001b[0m\u001b[0;34m(\u001b[0m\u001b[0mself\u001b[0m\u001b[0;34m,\u001b[0m \u001b[0mX\u001b[0m\u001b[0;34m)\u001b[0m\u001b[0;34m:\u001b[0m\u001b[0;34m\u001b[0m\u001b[0m\n",
      "\u001b[0;32m~/anaconda3/envs/py36/lib/python3.6/site-packages/sklearn/mixture/base.py\u001b[0m in \u001b[0;36mscore_samples\u001b[0;34m(self, X)\u001b[0m\n\u001b[1;32m    302\u001b[0m         \"\"\"\n\u001b[1;32m    303\u001b[0m         \u001b[0mself\u001b[0m\u001b[0;34m.\u001b[0m\u001b[0m_check_is_fitted\u001b[0m\u001b[0;34m(\u001b[0m\u001b[0;34m)\u001b[0m\u001b[0;34m\u001b[0m\u001b[0m\n\u001b[0;32m--> 304\u001b[0;31m         \u001b[0mX\u001b[0m \u001b[0;34m=\u001b[0m \u001b[0m_check_X\u001b[0m\u001b[0;34m(\u001b[0m\u001b[0mX\u001b[0m\u001b[0;34m,\u001b[0m \u001b[0;32mNone\u001b[0m\u001b[0;34m,\u001b[0m \u001b[0mself\u001b[0m\u001b[0;34m.\u001b[0m\u001b[0mmeans_\u001b[0m\u001b[0;34m.\u001b[0m\u001b[0mshape\u001b[0m\u001b[0;34m[\u001b[0m\u001b[0;36m1\u001b[0m\u001b[0;34m]\u001b[0m\u001b[0;34m)\u001b[0m\u001b[0;34m\u001b[0m\u001b[0m\n\u001b[0m\u001b[1;32m    305\u001b[0m \u001b[0;34m\u001b[0m\u001b[0m\n\u001b[1;32m    306\u001b[0m         \u001b[0;32mreturn\u001b[0m \u001b[0mlogsumexp\u001b[0m\u001b[0;34m(\u001b[0m\u001b[0mself\u001b[0m\u001b[0;34m.\u001b[0m\u001b[0m_estimate_weighted_log_prob\u001b[0m\u001b[0;34m(\u001b[0m\u001b[0mX\u001b[0m\u001b[0;34m)\u001b[0m\u001b[0;34m,\u001b[0m \u001b[0maxis\u001b[0m\u001b[0;34m=\u001b[0m\u001b[0;36m1\u001b[0m\u001b[0;34m)\u001b[0m\u001b[0;34m\u001b[0m\u001b[0m\n",
      "\u001b[0;32m~/anaconda3/envs/py36/lib/python3.6/site-packages/sklearn/mixture/base.py\u001b[0m in \u001b[0;36m_check_X\u001b[0;34m(X, n_components, n_features)\u001b[0m\n\u001b[1;32m     60\u001b[0m         raise ValueError(\"Expected the input data X have %d features, \"\n\u001b[1;32m     61\u001b[0m                          \u001b[0;34m\"but got %d features\"\u001b[0m\u001b[0;34m\u001b[0m\u001b[0m\n\u001b[0;32m---> 62\u001b[0;31m                          % (n_features, X.shape[1]))\n\u001b[0m\u001b[1;32m     63\u001b[0m     \u001b[0;32mreturn\u001b[0m \u001b[0mX\u001b[0m\u001b[0;34m\u001b[0m\u001b[0m\n\u001b[1;32m     64\u001b[0m \u001b[0;34m\u001b[0m\u001b[0m\n",
      "\u001b[0;31mValueError\u001b[0m: Expected the input data X have 10 features, but got 64 features"
     ]
    }
   ],
   "source": [
    "model.score(X)"
   ]
  }
 ],
 "metadata": {
  "kernelspec": {
   "display_name": "Python 3",
   "language": "python",
   "name": "python3"
  },
  "language_info": {
   "codemirror_mode": {
    "name": "ipython",
    "version": 3
   },
   "file_extension": ".py",
   "mimetype": "text/x-python",
   "name": "python",
   "nbconvert_exporter": "python",
   "pygments_lexer": "ipython3",
   "version": "3.6.3"
  }
 },
 "nbformat": 4,
 "nbformat_minor": 2
}
